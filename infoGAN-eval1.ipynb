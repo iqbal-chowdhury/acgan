{
 "cells": [
  {
   "cell_type": "code",
   "execution_count": 1,
   "metadata": {
    "collapsed": false,
    "deletable": true,
    "editable": true
   },
   "outputs": [
    {
     "name": "stdout",
     "output_type": "stream",
     "text": [
      "INFO:tensorflow:Restoring parameters from asset/train/infogan/model.ckpt-106516\n"
     ]
    },
    {
     "name": "stderr",
     "output_type": "stream",
     "text": [
      "I 0421:05:13:16.061:<ipython-input-1-c6f254d4907a>:92] Sample image saved to \"asset/train/infogan/fake.png\"\n"
     ]
    },
    {
     "name": "stdout",
     "output_type": "stream",
     "text": [
      "INFO:tensorflow:Restoring parameters from asset/train/infogan/model.ckpt-106516\n"
     ]
    },
    {
     "name": "stderr",
     "output_type": "stream",
     "text": [
      "I 0421:05:13:22.163:<ipython-input-1-c6f254d4907a>:92] Sample image saved to \"asset/train/infogan/sample.png\"\n"
     ]
    },
    {
     "name": "stdout",
     "output_type": "stream",
     "text": [
      "INFO:tensorflow:Restoring parameters from asset/train/infogan/model.ckpt-106516\n"
     ]
    },
    {
     "name": "stderr",
     "output_type": "stream",
     "text": [
      "I 0421:05:13:28.364:<ipython-input-1-c6f254d4907a>:92] Sample image saved to \"asset/train/infogan/sample0.png\"\n"
     ]
    },
    {
     "name": "stdout",
     "output_type": "stream",
     "text": [
      "INFO:tensorflow:Restoring parameters from asset/train/infogan/model.ckpt-106516\n"
     ]
    },
    {
     "name": "stderr",
     "output_type": "stream",
     "text": [
      "I 0421:05:13:34.415:<ipython-input-1-c6f254d4907a>:92] Sample image saved to \"asset/train/infogan/sample1.png\"\n"
     ]
    },
    {
     "name": "stdout",
     "output_type": "stream",
     "text": [
      "INFO:tensorflow:Restoring parameters from asset/train/infogan/model.ckpt-106516\n"
     ]
    },
    {
     "name": "stderr",
     "output_type": "stream",
     "text": [
      "I 0421:05:13:40.654:<ipython-input-1-c6f254d4907a>:92] Sample image saved to \"asset/train/infogan/sample2.png\"\n"
     ]
    },
    {
     "name": "stdout",
     "output_type": "stream",
     "text": [
      "INFO:tensorflow:Restoring parameters from asset/train/infogan/model.ckpt-106516\n"
     ]
    },
    {
     "name": "stderr",
     "output_type": "stream",
     "text": [
      "I 0421:05:13:46.836:<ipython-input-1-c6f254d4907a>:92] Sample image saved to \"asset/train/infogan/sample3.png\"\n"
     ]
    },
    {
     "name": "stdout",
     "output_type": "stream",
     "text": [
      "INFO:tensorflow:Restoring parameters from asset/train/infogan/model.ckpt-106516\n"
     ]
    },
    {
     "name": "stderr",
     "output_type": "stream",
     "text": [
      "I 0421:05:13:52.931:<ipython-input-1-c6f254d4907a>:92] Sample image saved to \"asset/train/infogan/sample4.png\"\n"
     ]
    },
    {
     "name": "stdout",
     "output_type": "stream",
     "text": [
      "INFO:tensorflow:Restoring parameters from asset/train/infogan/model.ckpt-106516\n"
     ]
    },
    {
     "name": "stderr",
     "output_type": "stream",
     "text": [
      "I 0421:05:13:58.889:<ipython-input-1-c6f254d4907a>:92] Sample image saved to \"asset/train/infogan/sample5.png\"\n"
     ]
    },
    {
     "name": "stdout",
     "output_type": "stream",
     "text": [
      "INFO:tensorflow:Restoring parameters from asset/train/infogan/model.ckpt-106516\n"
     ]
    },
    {
     "name": "stderr",
     "output_type": "stream",
     "text": [
      "I 0421:05:14:05.000:<ipython-input-1-c6f254d4907a>:92] Sample image saved to \"asset/train/infogan/sample6.png\"\n"
     ]
    },
    {
     "name": "stdout",
     "output_type": "stream",
     "text": [
      "INFO:tensorflow:Restoring parameters from asset/train/infogan/model.ckpt-106516\n"
     ]
    },
    {
     "name": "stderr",
     "output_type": "stream",
     "text": [
      "I 0421:05:14:11.004:<ipython-input-1-c6f254d4907a>:92] Sample image saved to \"asset/train/infogan/sample7.png\"\n"
     ]
    },
    {
     "name": "stdout",
     "output_type": "stream",
     "text": [
      "INFO:tensorflow:Restoring parameters from asset/train/infogan/model.ckpt-106516\n"
     ]
    },
    {
     "name": "stderr",
     "output_type": "stream",
     "text": [
      "I 0421:05:14:17.033:<ipython-input-1-c6f254d4907a>:92] Sample image saved to \"asset/train/infogan/sample8.png\"\n"
     ]
    },
    {
     "name": "stdout",
     "output_type": "stream",
     "text": [
      "INFO:tensorflow:Restoring parameters from asset/train/infogan/model.ckpt-106516\n"
     ]
    },
    {
     "name": "stderr",
     "output_type": "stream",
     "text": [
      "I 0421:05:14:23.065:<ipython-input-1-c6f254d4907a>:92] Sample image saved to \"asset/train/infogan/sample9.png\"\n"
     ]
    }
   ],
   "source": [
    "import sugartensor as tf\n",
    "import numpy as np\n",
    "import matplotlib.pyplot as plt\n",
    "\n",
    "# only use gpu 0\n",
    "import os\n",
    "os.environ[\"CUDA_DEVICE_ORDER\"]=\"PCI_BUS_ID\"   # see issue #152\n",
    "os.environ[\"CUDA_VISIBLE_DEVICES\"]=\"0\"\n",
    "\n",
    "__author__ = 'namju.kim@kakaobrain.com'\n",
    "\n",
    "\n",
    "# set log level to debug\n",
    "tf.sg_verbosity(10)\n",
    "\n",
    "#\n",
    "# hyper parameters\n",
    "#\n",
    "\n",
    "batch_size = 100   # batch size\n",
    "cat_dim = 10   # total categorical factor\n",
    "con_dim = 2    # total continuous factor\n",
    "rand_dim = 38  # total random latent dimension\n",
    "\n",
    "\n",
    "#\n",
    "# create generator & discriminator function\n",
    "#\n",
    "\n",
    "def generator(tensor):\n",
    "\n",
    "    # reuse flag\n",
    "    reuse = len([t for t in tf.global_variables() if t.name.startswith('generator')]) > 0\n",
    "\n",
    "    with tf.sg_context(name='generator', size=4, stride=2, act='leaky_relu', bn=True, reuse=reuse):\n",
    "        res = (tensor\n",
    "               .sg_dense(dim=1024, name='fc1')\n",
    "               .sg_dense(dim=7*7*128, name='fc2')\n",
    "               .sg_reshape(shape=(-1, 7, 7, 128))\n",
    "               .sg_upconv(dim=64, name='conv1')\n",
    "               .sg_upconv(dim=1, act='sigmoid', bn=False, name='conv2'))\n",
    "    return res\n",
    "\n",
    "\n",
    "#\n",
    "# inputs\n",
    "#\n",
    "\n",
    "# target_number\n",
    "target_num = tf.placeholder(dtype=tf.sg_intx, shape=batch_size)\n",
    "# target continuous variable # 1\n",
    "target_cval_1 = tf.placeholder(dtype=tf.sg_floatx, shape=batch_size)\n",
    "# target continuous variable # 2\n",
    "target_cval_2 = tf.placeholder(dtype=tf.sg_floatx, shape=batch_size)\n",
    "\n",
    "# category variables\n",
    "z = (tf.ones(batch_size, dtype=tf.sg_intx) * target_num).sg_one_hot(depth=cat_dim)\n",
    "\n",
    "# continuous variables\n",
    "z = z.sg_concat(target=[target_cval_1.sg_expand_dims(), target_cval_2.sg_expand_dims()])\n",
    "\n",
    "# random seed = categorical variable + continuous variable + random normal\n",
    "z = z.sg_concat(target=tf.random_normal((batch_size, rand_dim)))\n",
    "\n",
    "# generator\n",
    "gen = generator(z).sg_squeeze()\n",
    "\n",
    "\n",
    "#\n",
    "# run generator\n",
    "#\n",
    "def run_generator(num, x1, x2, fig_name='sample.png'):\n",
    "    with tf.Session() as sess:\n",
    "\n",
    "        tf.sg_init(sess)\n",
    "\n",
    "        # restore parameters\n",
    "        tf.sg_restore(sess, tf.train.latest_checkpoint('asset/train/infogan'), category='generator')\n",
    "\n",
    "        # run generator\n",
    "        imgs = sess.run(gen, {target_num: num,\n",
    "                              target_cval_1: x1,\n",
    "                              target_cval_2: x2})\n",
    "\n",
    "        # plot result\n",
    "        _, ax = plt.subplots(10, 10, sharex=True, sharey=True)\n",
    "        for i in range(10):\n",
    "            for j in range(10):\n",
    "                ax[i][j].imshow(imgs[i * 10 + j], 'gray')\n",
    "                ax[i][j].set_axis_off()\n",
    "        plt.savefig('asset/train/infogan/' + fig_name, dpi=600)\n",
    "        tf.sg_info('Sample image saved to \"asset/train/infogan/%s\"' % fig_name)\n",
    "        plt.close()\n",
    "\n",
    "\n",
    "#\n",
    "# draw sample by categorical division\n",
    "#\n",
    "\n",
    "# fake image\n",
    "run_generator(np.random.randint(0, cat_dim, batch_size),\n",
    "              np.random.uniform(0, 1, batch_size), np.random.uniform(0, 1, batch_size),\n",
    "              fig_name='fake.png')\n",
    "\n",
    "# classified image\n",
    "run_generator(np.arange(10).repeat(10), np.ones(batch_size) * 0.5, np.ones(batch_size) * 0.5)\n",
    "\n",
    "#\n",
    "# draw sample by continuous division\n",
    "#\n",
    "\n",
    "for i in range(10):\n",
    "    run_generator(np.ones(batch_size) * i,\n",
    "                  np.linspace(0, 1, 10).repeat(10),\n",
    "                  np.expand_dims(np.linspace(0, 1, 10), axis=1).repeat(10, axis=1).T.flatten(),\n",
    "                  fig_name='sample%d.png' % i)"
   ]
  },
  {
   "cell_type": "code",
   "execution_count": null,
   "metadata": {
    "collapsed": true,
    "deletable": true,
    "editable": true
   },
   "outputs": [],
   "source": []
  }
 ],
 "metadata": {
  "kernelspec": {
   "display_name": "Python 3",
   "language": "python",
   "name": "python3"
  },
  "language_info": {
   "codemirror_mode": {
    "name": "ipython",
    "version": 3
   },
   "file_extension": ".py",
   "mimetype": "text/x-python",
   "name": "python",
   "nbconvert_exporter": "python",
   "pygments_lexer": "ipython3",
   "version": "3.5.2"
  }
 },
 "nbformat": 4,
 "nbformat_minor": 2
}
