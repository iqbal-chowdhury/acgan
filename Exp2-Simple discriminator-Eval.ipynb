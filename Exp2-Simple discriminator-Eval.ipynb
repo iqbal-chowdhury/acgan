{
 "cells": [
  {
   "cell_type": "markdown",
   "metadata": {
    "deletable": true,
    "editable": true
   },
   "source": [
    "## Exp 2: a validation script for Exp 2\n",
    "### Result:\n",
    "#### If learn 0, 1, 2, 3, 4, 5, 6, all larger will be classified as 6 (no ability to learn more than 6 a.k.a unseen data)\n",
    "#### If learn 1,3, 5, 7, 9, all in between value will be casted to the closest value (also unable to learn unseen data)\n"
   ]
  },
  {
   "cell_type": "code",
   "execution_count": 1,
   "metadata": {
    "collapsed": false,
    "deletable": true,
    "editable": true
   },
   "outputs": [],
   "source": [
    "from __future__ import print_function\n",
    "from __future__ import absolute_import\n",
    "import matplotlib.pyplot as plt\n",
    "\n",
    "import sugartensor as tf\n",
    "import os\n",
    "from IPython.display import display, Image\n",
    "import numpy as np\n",
    "from scipy import ndimage\n",
    "from six.moves import cPickle as pickle\n",
    "\n",
    "import os\n",
    "os.environ[\"CUDA_DEVICE_ORDER\"]=\"PCI_BUS_ID\"   # see issue #152\n",
    "os.environ[\"CUDA_VISIBLE_DEVICES\"]=\"3\"\n",
    "%matplotlib inline\n"
   ]
  },
  {
   "cell_type": "code",
   "execution_count": 2,
   "metadata": {
    "collapsed": true,
    "deletable": true,
    "editable": true
   },
   "outputs": [],
   "source": [
    "batch_size = 64   # batch size\n",
    "image_size = 32\n",
    "pixel_depth = 255.0"
   ]
  },
  {
   "cell_type": "markdown",
   "metadata": {
    "deletable": true,
    "editable": true
   },
   "source": [
    "## Validation data"
   ]
  },
  {
   "cell_type": "code",
   "execution_count": 3,
   "metadata": {
    "collapsed": false,
    "deletable": true,
    "editable": true
   },
   "outputs": [
    {
     "name": "stdout",
     "output_type": "stream",
     "text": [
      "3000\n",
      "[8 1 7 1]\n",
      "Tensor(\"train_1:1\", shape=(64,), dtype=int64)\n",
      "Tensor(\"train_1:0\", shape=(64, 32, 32, 1), dtype=float32)\n"
     ]
    },
    {
     "data": {
      "image/png": "[encoded data removed]",
      "text/plain": [
       "<matplotlib.figure.Figure at 0x7f1c1a227c50>"
      ]
     },
     "metadata": {},
     "output_type": "display_data"
    }
   ],
   "source": [
    "dir= \"barcode/valid/\"\n",
    "fn = os.listdir(dir)\n",
    "total = len(fn)\n",
    "total\n",
    "valid_label = np.ndarray(shape = (total), dtype = np.int64)\n",
    "valid_dataset = np.ndarray(shape = (total, image_size, image_size, 1), dtype = np.float32)\n",
    "counter = 0\n",
    "for file in fn:\n",
    "    image_data = (ndimage.imread(dir+file).astype(float) - \n",
    "                    pixel_depth / 2) / pixel_depth\n",
    "    if True:\n",
    "        valid_label[counter] = int(file[0])\n",
    "        valid_dataset[counter, :, :] = image_data[:,:,0].reshape(image_size, image_size, 1)\n",
    "        counter+=1\n",
    "print(len(valid_label))\n",
    "\n",
    "_, axs = plt.subplots(1, 4)\n",
    "\n",
    "label = valid_label[:4]\n",
    "image = valid_dataset[:4]\n",
    "print(label)\n",
    "for i in range(4):\n",
    "    axs[i].imshow(image[i].reshape(image_size, image_size), cmap=plt.cm.Greys);\n",
    "    axs[i].set_title(label[i])\n",
    "\n",
    "valid_image, valid_label = tf.sg_data._data_to_tensor([valid_dataset, valid_label], batch_size, name = \"train\")\n",
    "\n",
    "print(valid_label)\n",
    "print(valid_image)"
   ]
  },
  {
   "cell_type": "code",
   "execution_count": 4,
   "metadata": {
    "collapsed": false,
    "deletable": true,
    "editable": true
   },
   "outputs": [
    {
     "name": "stdout",
     "output_type": "stream",
     "text": [
      "INFO:tensorflow:Restoring parameters from asset/train/exp2.1-classifier/model.ckpt-23419\n",
      "[[  4.98530035e-08   3.68478456e-29   6.06856574e-08   7.87542647e-17\n",
      "    2.82001960e-08   9.99985695e-01   2.29101182e-08   1.40852080e-05\n",
      "    4.67443044e-08   1.91516609e-22]\n",
      " [  1.98035350e-15   0.00000000e+00   6.76857633e-15   8.38202091e-38\n",
      "    1.94175275e-16   2.82439810e-35   4.83847983e-16   1.43608123e-01\n",
      "    2.74258601e-16   8.56391847e-01]\n",
      " [  4.47662037e-15   0.00000000e+00   1.24964355e-14   9.10984300e-38\n",
      "    3.39243180e-16   1.00164103e-34   9.71303586e-16   3.98202300e-01\n",
      "    5.34662125e-16   6.01797640e-01]\n",
      " [  2.01924248e-19   1.75183453e-18   1.95170409e-19   1.00000000e+00\n",
      "    1.43532445e-19   2.59837514e-17   1.24547758e-18   0.00000000e+00\n",
      "    5.64128492e-19   0.00000000e+00]\n",
      " [  5.47986906e-16   0.00000000e+00   1.42810930e-15   0.00000000e+00\n",
      "    2.87713104e-17   5.16271268e-37   1.04862785e-16   7.39883333e-02\n",
      "    5.16404489e-17   9.26011622e-01]]\n"
     ]
    },
    {
     "data": {
      "image/png": "[encoded data removed]",
      "text/plain": [
       "<matplotlib.figure.Figure at 0x7f1bd0e06860>"
      ]
     },
     "metadata": {},
     "output_type": "display_data"
    }
   ],
   "source": [
    "random_index = 10\n",
    "num_sample = 5\n",
    "image = tf.convert_to_tensor(valid_dataset[random_index:random_index+num_sample])\n",
    "\n",
    "with tf.sg_context(name='discriminator', size=4, stride=2, act='leaky_relu'):\n",
    "        \n",
    "        # shared part\n",
    "        # have to set batch norm at the layer level because we dont want to use batch norm everywhere\n",
    "        logit = (image\n",
    "                  .sg_conv(dim=64, name = 'conv2', bn = True)\n",
    "                  .sg_conv(dim=128, name='conv3', bn = True)\n",
    "                  .sg_flatten()\n",
    "                  .sg_dense(dim=1024, name='fc1')\n",
    "                  .sg_dense(dim=10, act='linear', name = 'cat')\n",
    "                 .sg_softmax())\n",
    "\n",
    "gpu_options = tf.GPUOptions(per_process_gpu_memory_fraction=0.1)\n",
    "\n",
    "sess = tf.Session(config=tf.ConfigProto(gpu_options=gpu_options))\n",
    "with sess:\n",
    "\n",
    "    tf.sg_init(sess)\n",
    "\n",
    "    # restore parameters\n",
    "    tf.sg_restore(sess, tf.train.latest_checkpoint('asset/train/exp2.1-classifier'), category='discriminator')\n",
    "\n",
    "    # run generator\n",
    "    labels = sess.run(logit)\n",
    "\n",
    "_, axs = plt.subplots(1, num_sample)              \n",
    "\n",
    "print(labels)\n",
    "\n",
    "for i in range(num_sample):\n",
    "    axs[i].imshow(valid_dataset[random_index+i].reshape(image_size, image_size), cmap=plt.cm.Greys)\n",
    "    axs[i].set_title(labels[i])"
   ]
  }
 ],
 "metadata": {
  "kernelspec": {
   "display_name": "Python 3",
   "language": "python",
   "name": "python3"
  },
  "language_info": {
   "codemirror_mode": {
    "name": "ipython",
    "version": 3
   },
   "file_extension": ".py",
   "mimetype": "text/x-python",
   "name": "python",
   "nbconvert_exporter": "python",
   "pygments_lexer": "ipython3",
   "version": "3.5.2"
  }
 },
 "nbformat": 4,
 "nbformat_minor": 2
}
