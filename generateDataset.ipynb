{
 "cells": [
  {
   "cell_type": "code",
   "execution_count": 12,
   "metadata": {
    "collapsed": false,
    "deletable": true,
    "editable": true
   },
   "outputs": [
    {
     "name": "stdout",
     "output_type": "stream",
     "text": [
      "0\n",
      "1\n",
      "2\n",
      "3\n",
      "4\n",
      "5\n",
      "6\n",
      "7\n",
      "8\n",
      "9\n"
     ]
    }
   ],
   "source": [
    "import matplotlib.pyplot as plt\n",
    "import random\n",
    "\n",
    "import numpy as np\n",
    "import cv2\n",
    "# Create a black image\n",
    "\n",
    "def genBarcode(max_bar, size, num, space):\n",
    "    for i in range(max_bar):\n",
    "        print(i)\n",
    "        for j in range(num):\n",
    "#             img = np.random.randint(256, size = (size,size,3), dtype=\"uint8\")#have to specify uint8\n",
    "            img = np.zeros((size,size,3), np.uint8)*255#have to specify uint8\n",
    "            vals = []\n",
    "            for k in range(i):\n",
    "#                 use space*i instead of space*max_bar\n",
    "                v = int(random.random()*(size-space*i))\n",
    "                vals.append(v)\n",
    "            vals.sort()\n",
    "            img = img.copy()\n",
    "            for k in range(i):\n",
    "                vals[k]+=k*space\n",
    "                color = (random.randint(100, 200), random.randint(100, 200), random.randint(100, 200))\n",
    "#                 color = (10, 50, 150)\n",
    "                pos = random.randint(5, 20)\n",
    "                length = random.randint(30, 50)\n",
    "#                 pos = 5\n",
    "                cv2.line(img,(int(vals[k]), pos),(int(vals[k]), pos+length),color,1)\n",
    "#             resized_image = img\n",
    "            resized_image = cv2.resize(img, (64, 64)) \n",
    "            cv2.imwrite(\"barcode/train/%s_%s.png\"%(str(i), str(j)),resized_image)\n",
    "        \n",
    "genBarcode(10, 50, 3000, 5)"
   ]
  },
  {
   "cell_type": "code",
   "execution_count": 2,
   "metadata": {
    "collapsed": false,
    "deletable": true,
    "editable": true
   },
   "outputs": [
    {
     "name": "stdout",
     "output_type": "stream",
     "text": [
      "Requirement already satisfied: mpld3 in /usr/local/lib/python3.5/dist-packages\r\n"
     ]
    }
   ],
   "source": [
    "!pip install mpld3\n"
   ]
  },
  {
   "cell_type": "code",
   "execution_count": 3,
   "metadata": {
    "collapsed": false,
    "deletable": true,
    "editable": true
   },
   "outputs": [],
   "source": [
    "\n",
    "\n",
    "%matplotlib inline\n",
    "fig_size = [12,9]\n",
    "\n",
    "import cv2, time, random, threading\n",
    "from matplotlib import pyplot as plt\n",
    "plt.rcParams[\"figure.figsize\"] = fig_size\n",
    "import mpld3\n",
    "import numpy as np\n",
    "mpld3.enable_notebook()\n",
    "\n",
    "def two_dot_too_close(dot1, dot2, dotsize):\n",
    "    if abs(dot1[0] - dot2[0]) <= (dotsize+1) and abs(dot1[1] - dot2[1]) <= (dotsize+1):\n",
    "        return True\n",
    "    else:\n",
    "        return False\n",
    "\n",
    "def random_dots(number_dots, dataset_size, dotsize, imagesize):\n",
    "    for ss in range(dataset_size):\n",
    "        dots = []\n",
    "        img = np.ones((imagesize,imagesize,3), np.uint8)*255\n",
    "\n",
    "        for dot in range(number_dots):\n",
    "            if dot == 0:\n",
    "                thisdot = [random.randint(2, imagesize-2-dotsize), random.randint(2, imagesize-2-dotsize)]\n",
    "                dots.append(thisdot)\n",
    "#                 print (thisdot)\n",
    "                \n",
    "            else:\n",
    "                while 1:\n",
    "                    thisdot = [random.randint(2, imagesize-2-dotsize), random.randint(2, imagesize-2-dotsize)]\n",
    "                    close_to_anyone_flag = False\n",
    "#                     print (dot)\n",
    "                    for pre_dot in range(dot):\n",
    "                        if two_dot_too_close(thisdot, dots[pre_dot], dotsize):\n",
    "                            close_to_anyone_flag = True\n",
    "                            break\n",
    "                    if close_to_anyone_flag == False:\n",
    "                        dots.append(thisdot)\n",
    "                        break\n",
    "                    \n",
    "                    \n",
    "            cv2.rectangle(img, tuple(thisdot), tuple([thisdot[0]+dotsize, thisdot[1]+dotsize]), (0,0,0), -1) \n",
    "            \n",
    "#         plt.imshow(img)\n",
    "#         plt.show()\n",
    "        cv2.imwrite(\"squarecode/valid/%s_%s.png\"%(str(number_dots), str(ss)),img)\n",
    "    print (\"dot\" + str(number_dots)+ \"  done\")\n",
    "        \n",
    "# random_dots(1, 1)\n",
    "# print (\"done\")\n",
    "\n"
   ]
  },
  {
   "cell_type": "code",
   "execution_count": 4,
   "metadata": {
    "collapsed": false,
    "deletable": true,
    "editable": true
   },
   "outputs": [
    {
     "name": "stdout",
     "output_type": "stream",
     "text": [
      "dot1  done\n",
      "dot2  done\n",
      "dot3  done\n",
      "dot4  done\n",
      "dot5  done\n",
      "dot6  done\n",
      "dot7  done\n",
      "dot8  done\n",
      "dot9  done\n"
     ]
    }
   ],
   "source": [
    "random_dots(1, 60, 3, 64)\n",
    "random_dots(2, 60, 3, 64)\n",
    "random_dots(3, 60, 3, 64)\n",
    "random_dots(4, 60, 3, 64)\n",
    "random_dots(5, 60, 3, 64)\n",
    "random_dots(6, 60, 3, 64)\n",
    "random_dots(7, 60, 3, 64)\n",
    "random_dots(8, 60, 3, 64)\n",
    "random_dots(9, 60, 3, 64)\n",
    "\n"
   ]
  },
  {
   "cell_type": "code",
   "execution_count": null,
   "metadata": {
    "collapsed": true,
    "deletable": true,
    "editable": true
   },
   "outputs": [],
   "source": [
    "def genPolygon(max_bar, size, num, space):\n",
    "    for i in range(max_bar):\n",
    "        print(i)\n",
    "        for j in range(num):\n",
    "#             img = np.random.randint(256, size = (size,size,3), dtype=\"uint8\")#have to specify uint8\n",
    "            img = np.zeros((size,size,3), np.uint8)*255#have to specify uint8\n",
    "            vals = []\n",
    "            for k in range(i):\n",
    "#                 use space*i instead of space*max_bar\n",
    "                v = int(random.random()*(size-space*i))\n",
    "                vals.append(v)\n",
    "            vals.sort()\n",
    "            img = img.copy()\n",
    "            for k in range(i):\n",
    "                vals[k]+=k*space\n",
    "                color = (random.randint(100, 200), random.randint(100, 200), random.randint(100, 200))\n",
    "#                 color = (10, 50, 150)\n",
    "                pos = random.randint(5, 20)\n",
    "                length = random.randint(30, 50)\n",
    "#                 pos = 5\n",
    "                cv2.line(img,(int(vals[k]), pos),(int(vals[k]), pos+length),color,1)\n",
    "            cv2.imwrite(\"barcode/train/%s_%s.png\"%(str(i), str(j)),img)\n",
    "        \n",
    "genBarcode(15, 64, 300, 4)"
   ]
  }
 ],
 "metadata": {
  "kernelspec": {
   "display_name": "Python 3",
   "language": "python",
   "name": "python3"
  },
  "language_info": {
   "codemirror_mode": {
    "name": "ipython",
    "version": 3
   },
   "file_extension": ".py",
   "mimetype": "text/x-python",
   "name": "python",
   "nbconvert_exporter": "python",
   "pygments_lexer": "ipython3",
   "version": "3.5.2"
  }
 },
 "nbformat": 4,
 "nbformat_minor": 2
}
