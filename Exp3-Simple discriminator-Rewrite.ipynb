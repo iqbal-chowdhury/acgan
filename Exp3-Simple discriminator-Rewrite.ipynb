{
 "cells": [
  {
   "cell_type": "markdown",
   "metadata": {
    "deletable": true,
    "editable": true
   },
   "source": [
    "## Exp 3: a simple classifier with the barcode dataset\n",
    "### Rewrite exp3 using pure Tensorflow.\n",
    "### The output layer is a regression layer"
   ]
  },
  {
   "cell_type": "code",
   "execution_count": 1,
   "metadata": {
    "collapsed": false,
    "deletable": true,
    "editable": true
   },
   "outputs": [],
   "source": [
    "from __future__ import print_function\n",
    "from __future__ import absolute_import\n",
    "import matplotlib.pyplot as plt\n",
    "\n",
    "import sugartensor as tf\n",
    "import os\n",
    "from IPython.display import display, Image\n",
    "import numpy as np\n",
    "from scipy import ndimage\n",
    "from six.moves import cPickle as pickle\n",
    "\n",
    "import os\n",
    "os.environ[\"CUDA_DEVICE_ORDER\"]=\"PCI_BUS_ID\"   # see issue #152\n",
    "os.environ[\"CUDA_VISIBLE_DEVICES\"]=\"3\"\n",
    "%matplotlib inline\n"
   ]
  },
  {
   "cell_type": "code",
   "execution_count": 2,
   "metadata": {
    "collapsed": true,
    "deletable": true,
    "editable": true
   },
   "outputs": [],
   "source": [
    "batch_size = 64   # batch size\n",
    "image_size = 32\n",
    "pixel_depth = 255.0"
   ]
  },
  {
   "cell_type": "markdown",
   "metadata": {
    "deletable": true,
    "editable": true
   },
   "source": [
    "## Training data"
   ]
  },
  {
   "cell_type": "code",
   "execution_count": 3,
   "metadata": {
    "collapsed": false,
    "deletable": true,
    "editable": true
   },
   "outputs": [],
   "source": [
    "dir= \"barcode/train/\"\n",
    "fn = os.listdir(dir)\n",
    "total = len(fn)\n",
    "total\n",
    "#     change the range to switch between exp2 : [0, 1, 2, 3, 4, 5, 6]\n",
    "#     and exp2.1: [1, 3, 5, 7, 9]\n",
    "visible = [1, 2, 3, 4, 5, 6, 7, 8, 9]\n",
    "# put all the images into this blob of size total*size*size*1\n",
    "# REMEMBER to change shape of dataset\n",
    "training_dataset = np.ndarray(shape = (3000*len(visible), image_size, image_size, 1), dtype = np.float32)\n",
    "counter = 0\n",
    "# REMEMBER to change shape of training label\n",
    "training_label = np.ndarray(shape = (3000*len(visible)), dtype = np.float32)\n",
    "for file in fn:\n",
    "    image_data = (ndimage.imread(dir+file).astype(float) - \n",
    "                    pixel_depth / 2) / pixel_depth\n",
    "\n",
    "    if int(file[0]) in visible:\n",
    "        training_label[counter] = int(file[0])\n",
    "        training_dataset[counter, :, :] = image_data[:,:,0].reshape(image_size, image_size, 1)\n",
    "        counter+=1"
   ]
  },
  {
   "cell_type": "markdown",
   "metadata": {
    "deletable": true,
    "editable": true
   },
   "source": [
    "## Validation data"
   ]
  },
  {
   "cell_type": "code",
   "execution_count": 4,
   "metadata": {
    "collapsed": false,
    "deletable": true,
    "editable": true
   },
   "outputs": [
    {
     "name": "stdout",
     "output_type": "stream",
     "text": [
      "3000\n",
      "[ 8.  1.  7.  1.]\n"
     ]
    },
    {
     "data": {
      "image/png": "[encoded data removed]",
      "text/plain": [
       "<matplotlib.figure.Figure at 0x7fbf788e96a0>"
      ]
     },
     "metadata": {},
     "output_type": "display_data"
    }
   ],
   "source": [
    "dir= \"barcode/valid/\"\n",
    "fn = os.listdir(dir)\n",
    "total = len(fn)\n",
    "total\n",
    "valid_label = np.ndarray(shape = (total), dtype = np.float32)\n",
    "valid_dataset = np.ndarray(shape = (total, image_size, image_size, 1), dtype = np.float32)\n",
    "counter = 0\n",
    "for file in fn:\n",
    "    image_data = (ndimage.imread(dir+file).astype(float) - \n",
    "                    pixel_depth / 2) / pixel_depth\n",
    "    if True:\n",
    "        valid_label[counter] = int(file[0])\n",
    "        valid_dataset[counter, :, :] = image_data[:,:,0].reshape(image_size, image_size, 1)\n",
    "        counter+=1\n",
    "print(len(valid_label))\n",
    "\n",
    "_, axs = plt.subplots(1, 4)\n",
    "\n",
    "label = valid_label[:4]\n",
    "image = valid_dataset[:4]\n",
    "print(label)\n",
    "for i in range(4):\n",
    "    axs[i].imshow(image[i].reshape(image_size, image_size), cmap=plt.cm.Greys);\n",
    "    axs[i].set_title(label[i])\n"
   ]
  },
  {
   "cell_type": "code",
   "execution_count": 5,
   "metadata": {
    "collapsed": false,
    "deletable": true,
    "editable": true
   },
   "outputs": [],
   "source": [
    "# input images and label\n",
    "def regressor(tensor):\n",
    "    with tf.sg_context(name='discriminator', size=4, stride=2, act='leaky_relu'):\n",
    "        logit = (tensor                \n",
    "                  .sg_conv(dim=64, name = 'conv2')\n",
    "                  .sg_conv(dim=128, name='conv3')\n",
    "                  .sg_flatten()\n",
    "                .sg_dense(dim=1, act = 'sigmoid', name = 'value'))\n",
    "    return logit"
   ]
  },
  {
   "cell_type": "code",
   "execution_count": 6,
   "metadata": {
    "collapsed": false,
    "deletable": true,
    "editable": true
   },
   "outputs": [
    {
     "name": "stdout",
     "output_type": "stream",
     "text": [
      "Tensor(\"Placeholder:0\", shape=(1, 32, 32, 1), dtype=float32) Tensor(\"Placeholder_1:0\", shape=(1,), dtype=float32)\n",
      "Tensor(\"truediv:0\", shape=(), dtype=float32)\n"
     ]
    }
   ],
   "source": [
    "X = tf.placeholder(shape = (1, image_size, image_size, 1), dtype = tf.float32)\n",
    "Y = tf.placeholder(shape = (1), dtype = tf.float32)\n",
    "print(X, Y)\n",
    "logit = regressor(X)\n",
    "# loss = logit.sg_mse(target = y, name = 'disc_loss').sg_mean(dims = 1)\n",
    "loss = tf.reduce_sum(tf.pow(Y-logit, 2), name = \"disc_loss\")/2\n",
    "print(loss)\n",
    "# limit gpu\n",
    "gpu_options = tf.GPUOptions(per_process_gpu_memory_fraction=0.8)\n",
    "\n",
    "sess = tf.Session(config=tf.ConfigProto(gpu_options=gpu_options))\n"
   ]
  },
  {
   "cell_type": "code",
   "execution_count": 7,
   "metadata": {
    "collapsed": false,
    "deletable": true,
    "editable": true
   },
   "outputs": [
    {
     "name": "stdout",
     "output_type": "stream",
     "text": [
      "0\n",
      "Epoch: 0001 cost= 18.014999390\n",
      "1\n",
      "Epoch: 0002 cost= 18.005813599\n",
      "2\n",
      "Epoch: 0003 cost= 18.003450394\n",
      "3\n",
      "Epoch: 0004 cost= 18.002408981\n",
      "4\n",
      "Epoch: 0005 cost= 18.001832962\n",
      "5\n",
      "Epoch: 0006 cost= 18.001478195\n",
      "6\n",
      "Epoch: 0007 cost= 18.001230240\n",
      "7\n",
      "Epoch: 0008 cost= 18.001052856\n",
      "8\n",
      "Epoch: 0009 cost= 18.000921249\n",
      "9\n",
      "Epoch: 0010 cost= 18.000816345\n",
      "10\n",
      "Epoch: 0011 cost= 18.000732422\n",
      "11\n",
      "Epoch: 0012 cost= 18.000667572\n",
      "12\n",
      "Epoch: 0013 cost= 18.000610352\n",
      "13\n",
      "Epoch: 0014 cost= 18.000560760\n",
      "14\n",
      "Epoch: 0015 cost= 18.000518799\n",
      "15\n",
      "Epoch: 0016 cost= 18.000486374\n",
      "16\n",
      "Epoch: 0017 cost= 18.000457764\n",
      "17\n",
      "Epoch: 0018 cost= 18.000431061\n",
      "18\n",
      "Epoch: 0019 cost= 18.000406265\n",
      "19\n",
      "Epoch: 0020 cost= 18.000387192\n",
      "20\n",
      "Epoch: 0021 cost= 18.000366211\n",
      "21\n",
      "Epoch: 0022 cost= 18.000349045\n",
      "22\n",
      "Epoch: 0023 cost= 18.000335693\n",
      "23\n",
      "Epoch: 0024 cost= 18.000320435\n",
      "24\n",
      "Epoch: 0025 cost= 18.000305176\n",
      "25\n",
      "Epoch: 0026 cost= 18.000293732\n",
      "26\n",
      "Epoch: 0027 cost= 18.000284195\n",
      "27\n",
      "Epoch: 0028 cost= 18.000276566\n",
      "28\n",
      "Epoch: 0029 cost= 18.000263214\n",
      "29\n",
      "Epoch: 0030 cost= 18.000257492\n",
      "30\n",
      "Epoch: 0031 cost= 18.000249863\n",
      "31\n",
      "Epoch: 0032 cost= 18.000242233\n",
      "32\n",
      "Epoch: 0033 cost= 18.000234604\n",
      "33\n",
      "Epoch: 0034 cost= 18.000225067\n",
      "34\n",
      "Epoch: 0035 cost= 18.000219345\n",
      "35\n",
      "Epoch: 0036 cost= 18.000215530\n",
      "36\n",
      "Epoch: 0037 cost= 18.000209808\n",
      "37\n",
      "Epoch: 0038 cost= 18.000202179\n",
      "38\n",
      "Epoch: 0039 cost= 18.000200272\n",
      "39\n",
      "Epoch: 0040 cost= 18.000194550\n",
      "40\n",
      "Epoch: 0041 cost= 18.000188828\n",
      "41\n",
      "Epoch: 0042 cost= 18.000185013\n",
      "42\n",
      "Epoch: 0043 cost= 18.000183105\n",
      "43\n",
      "Epoch: 0044 cost= 18.000177383\n",
      "44\n",
      "Epoch: 0045 cost= 18.000175476\n",
      "45\n",
      "Epoch: 0046 cost= 18.000173569\n",
      "46\n",
      "Epoch: 0047 cost= 18.000165939\n",
      "47\n",
      "Epoch: 0048 cost= 18.000165939\n",
      "48\n",
      "Epoch: 0049 cost= 18.000160217\n",
      "49\n",
      "Epoch: 0050 cost= 18.000160217\n",
      "50\n",
      "Epoch: 0051 cost= 18.000154495\n",
      "51\n",
      "Epoch: 0052 cost= 18.000154495\n",
      "52\n",
      "Epoch: 0053 cost= 18.000148773\n",
      "53\n",
      "Epoch: 0054 cost= 18.000148773\n",
      "54\n",
      "Epoch: 0055 cost= 18.000146866\n",
      "55\n",
      "Epoch: 0056 cost= 18.000141144\n",
      "56\n",
      "Epoch: 0057 cost= 18.000141144\n",
      "57\n",
      "Epoch: 0058 cost= 18.000139236\n",
      "58\n",
      "Epoch: 0059 cost= 18.000139236\n",
      "59\n",
      "Epoch: 0060 cost= 18.000133514\n",
      "60\n",
      "Epoch: 0061 cost= 18.000131607\n",
      "61\n",
      "Epoch: 0062 cost= 18.000131607\n",
      "62\n",
      "Epoch: 0063 cost= 18.000129700\n",
      "63\n",
      "Epoch: 0064 cost= 18.000125885\n",
      "64\n",
      "Epoch: 0065 cost= 18.000125885\n",
      "65\n",
      "Epoch: 0066 cost= 18.000125885\n",
      "66\n",
      "Epoch: 0067 cost= 18.000122070\n",
      "67\n",
      "Epoch: 0068 cost= 18.000120163\n",
      "68\n",
      "Epoch: 0069 cost= 18.000120163\n",
      "69\n",
      "Epoch: 0070 cost= 18.000116348\n",
      "70\n",
      "Epoch: 0071 cost= 18.000116348\n",
      "71\n",
      "Epoch: 0072 cost= 18.000114441\n",
      "72\n",
      "Epoch: 0073 cost= 18.000114441\n",
      "73\n",
      "Epoch: 0074 cost= 18.000114441\n",
      "74\n",
      "Epoch: 0075 cost= 18.000112534\n",
      "75\n",
      "Epoch: 0076 cost= 18.000106812\n",
      "76\n",
      "Epoch: 0077 cost= 18.000106812\n",
      "77\n",
      "Epoch: 0078 cost= 18.000106812\n",
      "78\n",
      "Epoch: 0079 cost= 18.000106812\n",
      "79\n",
      "Epoch: 0080 cost= 18.000106812\n",
      "80\n",
      "Epoch: 0081 cost= 18.000104904\n",
      "81\n",
      "Epoch: 0082 cost= 18.000104904\n",
      "82\n",
      "Epoch: 0083 cost= 18.000104904\n",
      "83\n",
      "Epoch: 0084 cost= 18.000104904\n",
      "84\n",
      "Epoch: 0085 cost= 18.000101089\n",
      "85\n",
      "Epoch: 0086 cost= 18.000101089\n",
      "86\n",
      "Epoch: 0087 cost= 18.000097275\n",
      "87\n",
      "Epoch: 0088 cost= 18.000097275\n",
      "88\n",
      "Epoch: 0089 cost= 18.000097275\n",
      "89\n",
      "Epoch: 0090 cost= 18.000097275\n",
      "90\n",
      "Epoch: 0091 cost= 18.000095367\n",
      "91\n",
      "Epoch: 0092 cost= 18.000095367\n",
      "92\n",
      "Epoch: 0093 cost= 18.000095367\n",
      "93\n",
      "Epoch: 0094 cost= 18.000091553\n",
      "94\n",
      "Epoch: 0095 cost= 18.000091553\n",
      "95\n",
      "Epoch: 0096 cost= 18.000091553\n",
      "96\n",
      "Epoch: 0097 cost= 18.000091553\n",
      "97\n",
      "Epoch: 0098 cost= 18.000091553\n",
      "98\n",
      "Epoch: 0099 cost= 18.000089645\n",
      "99\n",
      "Epoch: 0100 cost= 18.000089645\n"
     ]
    }
   ],
   "source": [
    "optimizer = tf.train.GradientDescentOptimizer(0.00001).minimize(loss)\n",
    "display_step = 500\n",
    "init = tf.global_variables_initializer()\n",
    "with sess:\n",
    "    sess.run(init)\n",
    "    for epoch in range(100):\n",
    "        print(epoch)\n",
    "        for (x, y) in zip(training_dataset, training_label):\n",
    "            x = x.reshape(1, 32, 32, 1)\n",
    "            y = y.reshape(1,)\n",
    "            sess.run(optimizer, feed_dict={X:x, Y:y})\n",
    "        c = sess.run(loss, feed_dict={X: x, Y:y})\n",
    "        print(\"Epoch:\", '%04d' % (epoch+1), \"cost=\", \"{:.9f}\".format(c))"
   ]
  },
  {
   "cell_type": "code",
   "execution_count": null,
   "metadata": {
    "collapsed": true,
    "deletable": true,
    "editable": true
   },
   "outputs": [],
   "source": []
  }
 ],
 "metadata": {
  "kernelspec": {
   "display_name": "Python 3",
   "language": "python",
   "name": "python3"
  },
  "language_info": {
   "codemirror_mode": {
    "name": "ipython",
    "version": 3
   },
   "file_extension": ".py",
   "mimetype": "text/x-python",
   "name": "python",
   "nbconvert_exporter": "python",
   "pygments_lexer": "ipython3",
   "version": "3.5.2"
  }
 },
 "nbformat": 4,
 "nbformat_minor": 2
}
