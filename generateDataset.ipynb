{
 "cells": [
  {
   "cell_type": "code",
   "execution_count": 3,
   "metadata": {
    "collapsed": false,
    "deletable": true,
    "editable": true
   },
   "outputs": [
    {
     "name": "stdout",
     "output_type": "stream",
     "text": [
      "1\n",
      "2\n",
      "3\n",
      "4\n",
      "5\n"
     ]
    }
   ],
   "source": [
    "import matplotlib.pyplot as plt\n",
    "import random\n",
    "\n",
    "import numpy as np\n",
    "import cv2\n",
    "# Create a black image\n",
    "\n",
    "def genBarcode(max_bar, size, num):\n",
    "    for i in range(1,max_bar+1):\n",
    "        print(i)\n",
    "        for j in range(num):\n",
    "            img = np.ones((size,size,3), np.uint8)*255\n",
    "            vals = []\n",
    "            for k in range(i):\n",
    "                v = int(random.random()*(size-2*max_bar))\n",
    "                vals.append(v)\n",
    "            vals.sort()\n",
    "            for k in range(i):\n",
    "                vals[k]+=k*2\n",
    "                cv2.line(img,(int(vals[k]), 5),(int(vals[k]), size-5),(0,0,0),1)\n",
    "            cv2.imwrite(\"barcode/test%s_%s.png\"%(str(i), str(j)),img)\n",
    "        \n",
    "genBarcode(5, 36, 300)\n",
    "# import random\n",
    "# import matplotlib.pyplot as plt\n",
    "# def square(x, y, i):\n",
    "#     move = 0.5 - random.random()\n",
    "#     px = [x+move, -y+move, -x+move, y+move, x+move]\n",
    "#     py = [y+move, x+move, -y+move, -x+move, y+move]\n",
    "#     plt.figure(figsize = (5, 5))\n",
    "#     plt.axis([-10, 10, -10, 10])\n",
    "#     #plt.axis('equal')\n",
    "#     plt.axis('off')\n",
    "    \n",
    "#     line= plt.plot(px, py)\n",
    "    \n",
    "#     plt.savefig(\"square/square\"+str(i)+\".png\")\n",
    "#     plt.clf()\n",
    "# for i in range(10000):\n",
    "#     x = random.random()*9\n",
    "#     y = random.random()*9\n",
    "#     square(x, y, i)"
   ]
  },
  {
   "cell_type": "code",
   "execution_count": 11,
   "metadata": {
    "collapsed": false,
    "deletable": true,
    "editable": true
   },
   "outputs": [
    {
     "name": "stdout",
     "output_type": "stream",
     "text": [
      "Collecting mpld3\n",
      "  Downloading mpld3-0.3.tar.gz (788kB)\n",
      "\u001b[K    100% |################################| 798kB 1.1MB/s ta 0:00:011\n",
      "\u001b[?25hBuilding wheels for collected packages: mpld3\n",
      "  Running setup.py bdist_wheel for mpld3 ... \u001b[?25l-\b \bdone\n",
      "\u001b[?25h  Stored in directory: /root/.cache/pip/wheels/69/bc/68/7ca3b696749d183e998968fc24b0ff3c5e119d9e68bf495b07\n",
      "Successfully built mpld3\n",
      "Installing collected packages: mpld3\n",
      "Successfully installed mpld3-0.3\n"
     ]
    }
   ],
   "source": [
    "!pip install mpld3\n"
   ]
  },
  {
   "cell_type": "code",
   "execution_count": 4,
   "metadata": {
    "collapsed": false,
    "deletable": true,
    "editable": true
   },
   "outputs": [
    {
     "name": "stdout",
     "output_type": "stream",
     "text": [
      "dot4  done\n",
      "dot3  donedot1  done\n",
      "\n",
      "dot2  done\n",
      "dot5  done\n"
     ]
    }
   ],
   "source": [
    "\n",
    "\n",
    "%matplotlib inline\n",
    "fig_size = [12,9]\n",
    "\n",
    "import cv2, time, random, threading\n",
    "from matplotlib import pyplot as plt\n",
    "plt.rcParams[\"figure.figsize\"] = fig_size\n",
    "import mpld3\n",
    "import numpy as np\n",
    "mpld3.enable_notebook()\n",
    "\n",
    "def two_dot_too_close(dot1, dot2, dotsize):\n",
    "    if abs(dot1[0] - dot2[0]) <= (dotsize+1) and abs(dot1[1] - dot2[1]) <= (dotsize+1):\n",
    "        return True\n",
    "    else:\n",
    "        return False\n",
    "\n",
    "def random_dots(number_dots, dataset_size, dotsize):\n",
    "    for ss in range(dataset_size):\n",
    "        dots = []\n",
    "        img = np.ones((100,100,3), np.uint8)*255\n",
    "\n",
    "        for dot in range(number_dots):\n",
    "            if dot == 0:\n",
    "                thisdot = [random.randint(2, 98-dotsize), random.randint(2, 98-dotsize)]\n",
    "                dots.append(thisdot)\n",
    "#                 print (thisdot)\n",
    "                \n",
    "            else:\n",
    "                while 1:\n",
    "                    thisdot = [random.randint(2, 98-dotsize), random.randint(2, 98-dotsize)]\n",
    "                    close_to_anyone_flag = False\n",
    "#                     print (dot)\n",
    "                    for pre_dot in range(dot):\n",
    "                        if two_dot_too_close(thisdot, dots[pre_dot], dotsize):\n",
    "                            close_to_anyone_flag = True\n",
    "                            break\n",
    "                    if close_to_anyone_flag == False:\n",
    "                        dots.append(thisdot)\n",
    "                        break\n",
    "                    \n",
    "                    \n",
    "            cv2.rectangle(img, tuple(thisdot), tuple([thisdot[0]+dotsize, thisdot[1]+dotsize]), (0,0,0), -1) \n",
    "            \n",
    "#         plt.imshow(img)\n",
    "#         plt.show()\n",
    "        cv2.imwrite(\"squarecode/test%s_%s.png\"%(str(number_dots), str(ss)),img)\n",
    "    print (\"dot\" + str(number_dots)+ \"  done\")\n",
    "        \n",
    "# random_dots(1, 1)\n",
    "# print (\"done\")\n",
    "\n",
    "threads = [None] * 5\n",
    "for ii in range(5):\n",
    "    threads[ii] = threading.Thread(target=random_dots, kwargs={\"number_dots\": ii+1, \"dataset_size\": 100, \"dotsize\": 9})\n",
    "    threads[ii].start()\n"
   ]
  },
  {
   "cell_type": "code",
   "execution_count": 4,
   "metadata": {
    "collapsed": false,
    "deletable": true,
    "editable": true
   },
   "outputs": [
    {
     "name": "stdout",
     "output_type": "stream",
     "text": [
      "[None, None, None, None, None]\n"
     ]
    }
   ],
   "source": [
    "print ([None] * 5)\n"
   ]
  },
  {
   "cell_type": "code",
   "execution_count": null,
   "metadata": {
    "collapsed": true,
    "deletable": true,
    "editable": true
   },
   "outputs": [],
   "source": []
  }
 ],
 "metadata": {
  "kernelspec": {
   "display_name": "Python 3",
   "language": "python",
   "name": "python3"
  },
  "language_info": {
   "codemirror_mode": {
    "name": "ipython",
    "version": 3
   },
   "file_extension": ".py",
   "mimetype": "text/x-python",
   "name": "python",
   "nbconvert_exporter": "python",
   "pygments_lexer": "ipython3",
   "version": "3.5.2"
  }
 },
 "nbformat": 4,
 "nbformat_minor": 2
}
