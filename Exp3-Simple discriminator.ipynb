{
 "cells": [
  {
   "cell_type": "markdown",
   "metadata": {
    "deletable": true,
    "editable": true
   },
   "source": [
    "## Exp 3: a simple classifier with the barcode dataset\n",
    "### The training data is less than 10 classes\n",
    "### The output layer is a regression layer"
   ]
  },
  {
   "cell_type": "code",
   "execution_count": 1,
   "metadata": {
    "collapsed": false,
    "deletable": true,
    "editable": true
   },
   "outputs": [],
   "source": [
    "from __future__ import print_function\n",
    "from __future__ import absolute_import\n",
    "import matplotlib.pyplot as plt\n",
    "\n",
    "import sugartensor as tf\n",
    "import os\n",
    "from IPython.display import display, Image\n",
    "import numpy as np\n",
    "from scipy import ndimage\n",
    "from six.moves import cPickle as pickle\n",
    "\n",
    "import os\n",
    "os.environ[\"CUDA_DEVICE_ORDER\"]=\"PCI_BUS_ID\"   # see issue #152\n",
    "os.environ[\"CUDA_VISIBLE_DEVICES\"]=\"3\"\n",
    "%matplotlib inline\n"
   ]
  },
  {
   "cell_type": "code",
   "execution_count": 2,
   "metadata": {
    "collapsed": true,
    "deletable": true,
    "editable": true
   },
   "outputs": [],
   "source": [
    "batch_size = 1   # batch size\n",
    "image_size = 64\n",
    "pixel_depth = 255.0"
   ]
  },
  {
   "cell_type": "markdown",
   "metadata": {
    "deletable": true,
    "editable": true
   },
   "source": [
    "## Training data"
   ]
  },
  {
   "cell_type": "code",
   "execution_count": 3,
   "metadata": {
    "collapsed": false,
    "deletable": true,
    "editable": true
   },
   "outputs": [
    {
     "name": "stdout",
     "output_type": "stream",
     "text": [
      "0.000381204535564\n",
      "1200\n",
      "Tensor(\"train_1:1\", shape=(1,), dtype=float32)\n",
      "Tensor(\"train_1:0\", shape=(1, 64, 64, 1), dtype=float32)\n",
      "1200\n"
     ]
    }
   ],
   "source": [
    "dir= \"barcode/train/\"\n",
    "fn = os.listdir(dir)\n",
    "total = len(fn)\n",
    "total\n",
    "#     change the range to switch between exp2 : [0, 1, 2, 3, 4, 5, 6]\n",
    "#     and exp2.1: [1, 3, 5, 7, 9]\n",
    "visible = [1, 2, 4, 7]\n",
    "# put all the images into this blob of size total*size*size*1\n",
    "# REMEMBER to change shape of dataset\n",
    "training_dataset = np.ndarray(shape = (300*len(visible), image_size, image_size, 1), dtype = np.float32)\n",
    "counter = 0\n",
    "# REMEMBER to change shape of training label\n",
    "training_label = np.ndarray(shape = (300*len(visible)), dtype = np.float32)\n",
    "for file in fn:\n",
    "#     image_data = ndimage.imread(dir+file).astype(float)\n",
    "    image_data = (ndimage.imread(dir+file).astype(float) - 250) / pixel_depth\n",
    "    label = int(file.split(\"_\")[0])\n",
    "    if label in visible:\n",
    "        training_label[counter] = int(file[0])\n",
    "        training_dataset[counter, :, :] = image_data[:,:,0].reshape(image_size, image_size, 1)\n",
    "        counter+=1\n",
    "#     else:\n",
    "#         print(file[0])\n",
    "print(np.sum(training_dataset)/(300*len(visible)*image_size*image_size))\n",
    "print(len(training_label))\n",
    "training_image, training_label = tf.sg_data._data_to_tensor([training_dataset, training_label], batch_size, name = \"train\")\n",
    "print(training_label)\n",
    "print(training_image)\n",
    "print(counter)"
   ]
  },
  {
   "cell_type": "code",
   "execution_count": 4,
   "metadata": {
    "collapsed": false
   },
   "outputs": [
    {
     "name": "stdout",
     "output_type": "stream",
     "text": [
      "[[[ 0.01960784]\n",
      "  [ 0.01960784]\n",
      "  [ 0.01960784]\n",
      "  ..., \n",
      "  [ 0.01960784]\n",
      "  [ 0.01960784]\n",
      "  [ 0.01960784]]\n",
      "\n",
      " [[ 0.01960784]\n",
      "  [ 0.01960784]\n",
      "  [ 0.01960784]\n",
      "  ..., \n",
      "  [ 0.01960784]\n",
      "  [ 0.01960784]\n",
      "  [ 0.01960784]]\n",
      "\n",
      " [[ 0.01960784]\n",
      "  [ 0.01960784]\n",
      "  [ 0.01960784]\n",
      "  ..., \n",
      "  [ 0.01960784]\n",
      "  [ 0.01960784]\n",
      "  [ 0.01960784]]\n",
      "\n",
      " ..., \n",
      " [[ 0.01960784]\n",
      "  [ 0.01960784]\n",
      "  [ 0.01960784]\n",
      "  ..., \n",
      "  [ 0.01960784]\n",
      "  [ 0.01960784]\n",
      "  [ 0.01960784]]\n",
      "\n",
      " [[ 0.01960784]\n",
      "  [ 0.01960784]\n",
      "  [ 0.01960784]\n",
      "  ..., \n",
      "  [ 0.01960784]\n",
      "  [ 0.01960784]\n",
      "  [ 0.01960784]]\n",
      "\n",
      " [[ 0.01960784]\n",
      "  [ 0.01960784]\n",
      "  [ 0.01960784]\n",
      "  ..., \n",
      "  [ 0.01960784]\n",
      "  [ 0.01960784]\n",
      "  [ 0.01960784]]]\n"
     ]
    }
   ],
   "source": [
    "print(training_dataset[0])"
   ]
  },
  {
   "cell_type": "markdown",
   "metadata": {
    "deletable": true,
    "editable": true
   },
   "source": [
    "## Validation data"
   ]
  },
  {
   "cell_type": "code",
   "execution_count": 5,
   "metadata": {
    "collapsed": false,
    "deletable": true,
    "editable": true
   },
   "outputs": [
    {
     "name": "stdout",
     "output_type": "stream",
     "text": [
      "4500\n",
      "[ 8.  1.  1.  7.  1.  1.  2.]\n",
      "[[[ 0.08627451]\n",
      "  [ 0.08627451]\n",
      "  [ 0.08627451]\n",
      "  ..., \n",
      "  [ 0.08627451]\n",
      "  [ 0.08627451]\n",
      "  [ 0.08627451]]\n",
      "\n",
      " [[ 0.08627451]\n",
      "  [ 0.08627451]\n",
      "  [ 0.08627451]\n",
      "  ..., \n",
      "  [ 0.08627451]\n",
      "  [ 0.08627451]\n",
      "  [ 0.08627451]]\n",
      "\n",
      " [[ 0.08627451]\n",
      "  [ 0.08627451]\n",
      "  [ 0.08627451]\n",
      "  ..., \n",
      "  [ 0.08627451]\n",
      "  [ 0.08627451]\n",
      "  [ 0.08627451]]\n",
      "\n",
      " ..., \n",
      " [[-0.20784314]\n",
      "  [ 0.08627451]\n",
      "  [ 0.08627451]\n",
      "  ..., \n",
      "  [ 0.08627451]\n",
      "  [ 0.08627451]\n",
      "  [ 0.08627451]]\n",
      "\n",
      " [[-0.20784314]\n",
      "  [ 0.08627451]\n",
      "  [ 0.08627451]\n",
      "  ..., \n",
      "  [ 0.08627451]\n",
      "  [ 0.08627451]\n",
      "  [ 0.08627451]]\n",
      "\n",
      " [[-0.20784314]\n",
      "  [ 0.08627451]\n",
      "  [ 0.08627451]\n",
      "  ..., \n",
      "  [ 0.08627451]\n",
      "  [ 0.08627451]\n",
      "  [ 0.08627451]]]\n",
      "[[[ 0.08627451]\n",
      "  [ 0.08627451]\n",
      "  [ 0.08627451]\n",
      "  ..., \n",
      "  [ 0.08627451]\n",
      "  [ 0.08627451]\n",
      "  [ 0.08627451]]\n",
      "\n",
      " [[ 0.08627451]\n",
      "  [ 0.08627451]\n",
      "  [ 0.08627451]\n",
      "  ..., \n",
      "  [ 0.08627451]\n",
      "  [ 0.08627451]\n",
      "  [ 0.08627451]]\n",
      "\n",
      " [[ 0.08627451]\n",
      "  [ 0.08627451]\n",
      "  [ 0.08627451]\n",
      "  ..., \n",
      "  [ 0.08627451]\n",
      "  [ 0.08627451]\n",
      "  [ 0.08627451]]\n",
      "\n",
      " ..., \n",
      " [[ 0.08627451]\n",
      "  [-0.38431373]\n",
      "  [ 0.08627451]\n",
      "  ..., \n",
      "  [ 0.08627451]\n",
      "  [ 0.08627451]\n",
      "  [ 0.08627451]]\n",
      "\n",
      " [[ 0.08627451]\n",
      "  [-0.38431373]\n",
      "  [ 0.08627451]\n",
      "  ..., \n",
      "  [ 0.08627451]\n",
      "  [ 0.08627451]\n",
      "  [ 0.08627451]]\n",
      "\n",
      " [[ 0.08627451]\n",
      "  [-0.38431373]\n",
      "  [ 0.08627451]\n",
      "  ..., \n",
      "  [ 0.08627451]\n",
      "  [ 0.08627451]\n",
      "  [ 0.08627451]]]\n",
      "[[[ 0.08627451]\n",
      "  [ 0.08627451]\n",
      "  [ 0.08627451]\n",
      "  ..., \n",
      "  [ 0.08627451]\n",
      "  [ 0.08627451]\n",
      "  [ 0.08627451]]\n",
      "\n",
      " [[ 0.08627451]\n",
      "  [ 0.08627451]\n",
      "  [ 0.08627451]\n",
      "  ..., \n",
      "  [ 0.08627451]\n",
      "  [ 0.08627451]\n",
      "  [ 0.08627451]]\n",
      "\n",
      " [[ 0.08627451]\n",
      "  [ 0.08627451]\n",
      "  [ 0.08627451]\n",
      "  ..., \n",
      "  [ 0.08627451]\n",
      "  [ 0.08627451]\n",
      "  [ 0.08627451]]\n",
      "\n",
      " ..., \n",
      " [[ 0.08627451]\n",
      "  [ 0.08627451]\n",
      "  [ 0.08627451]\n",
      "  ..., \n",
      "  [ 0.08627451]\n",
      "  [ 0.08627451]\n",
      "  [ 0.08627451]]\n",
      "\n",
      " [[ 0.08627451]\n",
      "  [ 0.08627451]\n",
      "  [ 0.08627451]\n",
      "  ..., \n",
      "  [ 0.08627451]\n",
      "  [ 0.08627451]\n",
      "  [ 0.08627451]]\n",
      "\n",
      " [[ 0.08627451]\n",
      "  [ 0.08627451]\n",
      "  [ 0.08627451]\n",
      "  ..., \n",
      "  [ 0.08627451]\n",
      "  [ 0.08627451]\n",
      "  [ 0.08627451]]]\n",
      "[[[ 0.08627451]\n",
      "  [ 0.08627451]\n",
      "  [ 0.08627451]\n",
      "  ..., \n",
      "  [ 0.08627451]\n",
      "  [ 0.08627451]\n",
      "  [ 0.08627451]]\n",
      "\n",
      " [[ 0.08627451]\n",
      "  [ 0.08627451]\n",
      "  [ 0.08627451]\n",
      "  ..., \n",
      "  [ 0.08627451]\n",
      "  [ 0.08627451]\n",
      "  [ 0.08627451]]\n",
      "\n",
      " [[ 0.08627451]\n",
      "  [ 0.08627451]\n",
      "  [ 0.08627451]\n",
      "  ..., \n",
      "  [ 0.08627451]\n",
      "  [ 0.08627451]\n",
      "  [ 0.08627451]]\n",
      "\n",
      " ..., \n",
      " [[-0.43921569]\n",
      "  [ 0.08627451]\n",
      "  [ 0.08627451]\n",
      "  ..., \n",
      "  [ 0.08627451]\n",
      "  [ 0.08627451]\n",
      "  [ 0.08627451]]\n",
      "\n",
      " [[ 0.08627451]\n",
      "  [ 0.08627451]\n",
      "  [ 0.08627451]\n",
      "  ..., \n",
      "  [ 0.08627451]\n",
      "  [ 0.08627451]\n",
      "  [ 0.08627451]]\n",
      "\n",
      " [[ 0.08627451]\n",
      "  [ 0.08627451]\n",
      "  [ 0.08627451]\n",
      "  ..., \n",
      "  [ 0.08627451]\n",
      "  [ 0.08627451]\n",
      "  [ 0.08627451]]]\n",
      "[[[ 0.08627451]\n",
      "  [ 0.08627451]\n",
      "  [ 0.08627451]\n",
      "  ..., \n",
      "  [ 0.08627451]\n",
      "  [ 0.08627451]\n",
      "  [ 0.08627451]]\n",
      "\n",
      " [[ 0.08627451]\n",
      "  [ 0.08627451]\n",
      "  [ 0.08627451]\n",
      "  ..., \n",
      "  [ 0.08627451]\n",
      "  [ 0.08627451]\n",
      "  [ 0.08627451]]\n",
      "\n",
      " [[ 0.08627451]\n",
      "  [ 0.08627451]\n",
      "  [ 0.08627451]\n",
      "  ..., \n",
      "  [ 0.08627451]\n",
      "  [ 0.08627451]\n",
      "  [ 0.08627451]]\n",
      "\n",
      " ..., \n",
      " [[ 0.08627451]\n",
      "  [ 0.08627451]\n",
      "  [ 0.08627451]\n",
      "  ..., \n",
      "  [ 0.08627451]\n",
      "  [ 0.08627451]\n",
      "  [ 0.08627451]]\n",
      "\n",
      " [[ 0.08627451]\n",
      "  [ 0.08627451]\n",
      "  [ 0.08627451]\n",
      "  ..., \n",
      "  [ 0.08627451]\n",
      "  [ 0.08627451]\n",
      "  [ 0.08627451]]\n",
      "\n",
      " [[ 0.08627451]\n",
      "  [ 0.08627451]\n",
      "  [ 0.08627451]\n",
      "  ..., \n",
      "  [ 0.08627451]\n",
      "  [ 0.08627451]\n",
      "  [ 0.08627451]]]\n",
      "[[[ 0.08627451]\n",
      "  [ 0.08627451]\n",
      "  [ 0.08627451]\n",
      "  ..., \n",
      "  [ 0.08627451]\n",
      "  [ 0.08627451]\n",
      "  [ 0.08627451]]\n",
      "\n",
      " [[ 0.08627451]\n",
      "  [ 0.08627451]\n",
      "  [ 0.08627451]\n",
      "  ..., \n",
      "  [ 0.08627451]\n",
      "  [ 0.08627451]\n",
      "  [ 0.08627451]]\n",
      "\n",
      " [[ 0.08627451]\n",
      "  [ 0.08627451]\n",
      "  [ 0.08627451]\n",
      "  ..., \n",
      "  [ 0.08627451]\n",
      "  [ 0.08627451]\n",
      "  [ 0.08627451]]\n",
      "\n",
      " ..., \n",
      " [[ 0.08627451]\n",
      "  [ 0.08627451]\n",
      "  [ 0.08627451]\n",
      "  ..., \n",
      "  [ 0.08627451]\n",
      "  [ 0.08627451]\n",
      "  [ 0.08627451]]\n",
      "\n",
      " [[ 0.08627451]\n",
      "  [ 0.08627451]\n",
      "  [ 0.08627451]\n",
      "  ..., \n",
      "  [ 0.08627451]\n",
      "  [ 0.08627451]\n",
      "  [ 0.08627451]]\n",
      "\n",
      " [[ 0.08627451]\n",
      "  [ 0.08627451]\n",
      "  [ 0.08627451]\n",
      "  ..., \n",
      "  [ 0.08627451]\n",
      "  [ 0.08627451]\n",
      "  [ 0.08627451]]]\n",
      "[[[ 0.08627451]\n",
      "  [ 0.08627451]\n",
      "  [ 0.08627451]\n",
      "  ..., \n",
      "  [ 0.08627451]\n",
      "  [ 0.08627451]\n",
      "  [ 0.08627451]]\n",
      "\n",
      " [[ 0.08627451]\n",
      "  [ 0.08627451]\n",
      "  [ 0.08627451]\n",
      "  ..., \n",
      "  [ 0.08627451]\n",
      "  [ 0.08627451]\n",
      "  [ 0.08627451]]\n",
      "\n",
      " [[ 0.08627451]\n",
      "  [ 0.08627451]\n",
      "  [ 0.08627451]\n",
      "  ..., \n",
      "  [ 0.08627451]\n",
      "  [ 0.08627451]\n",
      "  [ 0.08627451]]\n",
      "\n",
      " ..., \n",
      " [[ 0.08627451]\n",
      "  [ 0.08627451]\n",
      "  [ 0.08627451]\n",
      "  ..., \n",
      "  [ 0.08627451]\n",
      "  [ 0.08627451]\n",
      "  [ 0.08627451]]\n",
      "\n",
      " [[ 0.08627451]\n",
      "  [ 0.08627451]\n",
      "  [ 0.08627451]\n",
      "  ..., \n",
      "  [ 0.08627451]\n",
      "  [ 0.08627451]\n",
      "  [ 0.08627451]]\n",
      "\n",
      " [[ 0.08627451]\n",
      "  [ 0.08627451]\n",
      "  [ 0.08627451]\n",
      "  ..., \n",
      "  [ 0.08627451]\n",
      "  [ 0.08627451]\n",
      "  [ 0.08627451]]]\n",
      "Tensor(\"train_3:1\", shape=(1,), dtype=float32)\n",
      "Tensor(\"train_3:0\", shape=(1, 64, 64, 1), dtype=float32)\n"
     ]
    },
    {
     "data": {
      "image/png": "[encoded data removed]",
      "text/plain": [
       "<matplotlib.figure.Figure at 0x7f4eca509cc0>"
      ]
     },
     "metadata": {},
     "output_type": "display_data"
    }
   ],
   "source": [
    "dir= \"barcode/valid/\"\n",
    "fn = os.listdir(dir)\n",
    "total = len(fn)\n",
    "total\n",
    "valid_label = np.ndarray(shape = (total), dtype = np.float32)\n",
    "valid_dataset = np.ndarray(shape = (total, image_size, image_size, 1), dtype = np.float32)\n",
    "counter = 0\n",
    "for file in fn:\n",
    "    image_data = (ndimage.imread(dir+file).astype(float) - \n",
    "                    233) / pixel_depth\n",
    "    if True:\n",
    "        valid_label[counter] = int(file[0])\n",
    "        valid_dataset[counter, :, :] = image_data[:,:,0].reshape(image_size, image_size, 1)\n",
    "        counter+=1\n",
    "print(len(valid_label))\n",
    "\n",
    "_, axs = plt.subplots(1, 7)\n",
    "\n",
    "label = valid_label[:7]\n",
    "image = valid_dataset[:7]\n",
    "print(label)\n",
    "for i in range(7):\n",
    "    print(image[i])\n",
    "    axs[i].imshow(image[i].reshape(image_size, image_size), cmap=plt.cm.Greys);\n",
    "    axs[i].set_title(label[i])\n",
    "\n",
    "valid_image, valid_label = tf.sg_data._data_to_tensor([valid_dataset, valid_label], batch_size, name = \"train\")\n",
    "\n",
    "print(valid_label)\n",
    "print(valid_image)"
   ]
  },
  {
   "cell_type": "code",
   "execution_count": 6,
   "metadata": {
    "collapsed": false,
    "deletable": true,
    "editable": true
   },
   "outputs": [
    {
     "name": "stdout",
     "output_type": "stream",
     "text": [
      "Tensor(\"discriminator/cat/out:0\", shape=(1, 10), dtype=float32)\n"
     ]
    }
   ],
   "source": [
    "# input images and label\n",
    "x = training_image\n",
    "y = training_label\n",
    "\n",
    "with tf.sg_context(name='discriminator', size=4, stride=2, act='leaky_relu'):\n",
    "        \n",
    "        # shared part\n",
    "        # have to set batch norm at the layer level because we dont want to use batch norm everywhere\n",
    "        shared = (x              \n",
    "                  .sg_conv(dim=32, name = 'conv1')\n",
    "                  .sg_conv(dim=64, name = 'conv2')\n",
    "                  .sg_conv(dim=128, name='conv3')\n",
    "                  .sg_flatten()\n",
    "                  .sg_dense(dim = 1024, name = 'fc2')\n",
    "                  .sg_dense(dim=10, act='linear', name = 'cat'))\n",
    "        print(shared)\n",
    "#         add kernel trick\n",
    "        kernel = tf.concat([tf.pow(shared, 2), shared], 1)\n",
    "        logit = (kernel.sg_dense(dim=1, act = 'linear', name = 'output'))"
   ]
  },
  {
   "cell_type": "code",
   "execution_count": 7,
   "metadata": {
    "collapsed": false,
    "deletable": true,
    "editable": true
   },
   "outputs": [
    {
     "name": "stdout",
     "output_type": "stream",
     "text": [
      "Tensor(\"discriminator/concat:0\", shape=(1, 20), dtype=float32)\n",
      "Tensor(\"discriminator/output/out:0\", shape=(1, 1), dtype=float32)\n",
      "Tensor(\"train_1:1\", shape=(1,), dtype=float32)\n",
      "Tensor(\"mse:0\", shape=(1, 1), dtype=float32)\n",
      "INFO:tensorflow:global_step/sec: 0\n"
     ]
    },
    {
     "name": "stderr",
     "output_type": "stream",
     "text": [
      "train:  25%|█████▉                  | 177/720 [00:00<00:01, 347.29b/s]"
     ]
    },
    {
     "name": "stdout",
     "output_type": "stream",
     "text": [
      "INFO:tensorflow:global_step/sec: 186.146\n"
     ]
    },
    {
     "name": "stderr",
     "output_type": "stream",
     "text": [
      "train:  46%|███████████▏            | 334/720 [00:01<00:01, 298.72b/s]"
     ]
    },
    {
     "name": "stdout",
     "output_type": "stream",
     "text": [
      "INFO:tensorflow:global_step/sec: 320.403\n"
     ]
    },
    {
     "name": "stderr",
     "output_type": "stream",
     "text": [
      "train:  80%|███████████████████▎    | 578/720 [00:01<00:00, 376.97b/s]"
     ]
    },
    {
     "name": "stdout",
     "output_type": "stream",
     "text": [
      "INFO:tensorflow:global_step/sec: 334.591\n"
     ]
    },
    {
     "name": "stderr",
     "output_type": "stream",
     "text": [
      "train:  17%|████                    | 120/720 [00:00<00:01, 394.42b/s]"
     ]
    },
    {
     "name": "stdout",
     "output_type": "stream",
     "text": [
      "INFO:tensorflow:global_step/sec: 337.808\n"
     ]
    },
    {
     "name": "stderr",
     "output_type": "stream",
     "text": [
      "train:  55%|█████████████▎          | 399/720 [00:02<00:02, 125.08b/s]"
     ]
    },
    {
     "name": "stdout",
     "output_type": "stream",
     "text": [
      "INFO:tensorflow:global_step/sec: 198.187\n"
     ]
    },
    {
     "name": "stderr",
     "output_type": "stream",
     "text": [
      "train:  57%|█████████████▊          | 414/720 [00:02<00:02, 107.20b/s]"
     ]
    },
    {
     "name": "stdout",
     "output_type": "stream",
     "text": [
      "INFO:tensorflow:global_step/sec: 146.139\n"
     ]
    },
    {
     "name": "stderr",
     "output_type": "stream",
     "text": [
      "train:  60%|██████████████▍         | 432/720 [00:01<00:01, 160.63b/s]"
     ]
    },
    {
     "name": "stdout",
     "output_type": "stream",
     "text": [
      "INFO:tensorflow:global_step/sec: 292.715\n"
     ]
    },
    {
     "name": "stderr",
     "output_type": "stream",
     "text": [
      "train:  72%|█████████████████▍      | 522/720 [00:01<00:00, 388.97b/s]"
     ]
    },
    {
     "name": "stdout",
     "output_type": "stream",
     "text": [
      "INFO:tensorflow:global_step/sec: 305.43\n"
     ]
    },
    {
     "name": "stderr",
     "output_type": "stream",
     "text": [
      "train:   5%|█▎                       | 36/720 [00:00<00:01, 357.98b/s]"
     ]
    },
    {
     "name": "stdout",
     "output_type": "stream",
     "text": [
      "INFO:tensorflow:global_step/sec: 335.208\n"
     ]
    },
    {
     "name": "stderr",
     "output_type": "stream",
     "text": [
      "                                                                      \r"
     ]
    }
   ],
   "source": [
    "print(kernel)\n",
    "print(logit)\n",
    "print(y)\n",
    "loss = logit.sg_mse(target = y, name = 'disc_loss')\n",
    "# loss = tf.reduce_sum(tf.pow(y-logit, 2), name = \"disc_loss\")/(2*batch_size)\n",
    "print(loss)\n",
    "# limit gpu\n",
    "gpu_options = tf.GPUOptions(per_process_gpu_memory_fraction=0.8)\n",
    "\n",
    "\n",
    "sess = tf.Session(config=tf.ConfigProto(gpu_options=gpu_options))\n",
    "tf.sg_init(sess)\n",
    "\n",
    "# sess.run(logit)\n",
    "# print(logit)\n",
    "# sess.run(loss)\n",
    "# print(loss)\n",
    "#\n",
    "# training\n",
    "#\n",
    "# accuracy evaluation\n",
    "# acc = (logit.sg_reuse(input = valid_image).sg_int().sg_one_hot(depth = 10)\n",
    "#        .sg_accuracy(target=valid_label, name='val'))\n",
    "# do training\n",
    "\n",
    "# tf.sg_train(optim = 'Adam', sess = sess,  lr = 0.001, loss = loss, log_interval=5, max_ep=900, ep_size=300*len(visible)//batch_size, early_stop=False, save_dir='asset/train/exp3-classifier')\n",
    "# print(\"change learning rate\")\n",
    "# tf.sg_train(optim = 'Adam', sess = sess,  lr = 0.01, loss = loss, log_interval=5, max_ep=120, ep_size=3000*len(visible)//batch_size, early_stop=False, save_dir='asset/train/exp3-classifier')\n",
    "# print(\"change learning rate\")\n",
    "tf.sg_train(optim = 'Adam', sess = sess,  lr = 0.0001, loss = loss, log_interval=5, max_ep=180, ep_size=180*len(visible)//batch_size, early_stop=False, save_dir='asset/train/exp3.2-classifier')"
   ]
  },
  {
   "cell_type": "code",
   "execution_count": null,
   "metadata": {
    "collapsed": false,
    "deletable": true,
    "editable": true
   },
   "outputs": [],
   "source": []
  },
  {
   "cell_type": "code",
   "execution_count": null,
   "metadata": {
    "collapsed": true,
    "deletable": true,
    "editable": true
   },
   "outputs": [],
   "source": []
  }
 ],
 "metadata": {
  "kernelspec": {
   "display_name": "Python 3",
   "language": "python",
   "name": "python3"
  },
  "language_info": {
   "codemirror_mode": {
    "name": "ipython",
    "version": 3
   },
   "file_extension": ".py",
   "mimetype": "text/x-python",
   "name": "python",
   "nbconvert_exporter": "python",
   "pygments_lexer": "ipython3",
   "version": "3.5.2"
  }
 },
 "nbformat": 4,
 "nbformat_minor": 2
}
